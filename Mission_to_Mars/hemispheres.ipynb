{
 "cells": [
  {
   "cell_type": "code",
   "execution_count": 2,
   "metadata": {},
   "outputs": [],
   "source": [
    "from splinter import Browser\n",
    "from bs4 import BeautifulSoup as bs\n",
    "from webdriver_manager.chrome import ChromeDriverManager\n",
    "from selenium import webdriver\n",
    "from selenium.webdriver.common.keys import Keys\n",
    "import requests\n",
    "import datetime as dt\n",
    "import time\n",
    "time.sleep(1)"
   ]
  },
  {
   "cell_type": "code",
   "execution_count": 3,
   "metadata": {},
   "outputs": [
    {
     "name": "stderr",
     "output_type": "stream",
     "text": [
      "\n",
      "\n",
      "====== WebDriver manager ======\n",
      "Current google-chrome version is 91.0.4472\n",
      "Get LATEST driver version for 91.0.4472\n",
      "Driver [C:\\Users\\TriciaToffey\\.wdm\\drivers\\chromedriver\\win32\\91.0.4472.101\\chromedriver.exe] found in cache\n"
     ]
    }
   ],
   "source": [
    "executable_path = {'executable_path': ChromeDriverManager().install()}\n",
    "#executable_path = {\"executable_path\": \"c:/users/TriciaToffey/Desktop/chromedriver.exe\"}\n",
    "browser = Browser('chrome', **executable_path, headless=False)"
   ]
  },
  {
   "cell_type": "code",
   "execution_count": 4,
   "metadata": {},
   "outputs": [],
   "source": [
    "url=\"https://www.marshemispheres.com/index.html\"\n",
    "browser.visit(url)"
   ]
  },
  {
   "cell_type": "code",
   "execution_count": 5,
   "metadata": {},
   "outputs": [],
   "source": [
    "html=browser.html\n",
    "soup=bs(html, \"html.parser\")"
   ]
  },
  {
   "cell_type": "code",
   "execution_count": 6,
   "metadata": {},
   "outputs": [],
   "source": [
    "#print(soup.prettify())"
   ]
  },
  {
   "cell_type": "code",
   "execution_count": 7,
   "metadata": {},
   "outputs": [
    {
     "name": "stdout",
     "output_type": "stream",
     "text": [
      "https://www.marshemispheres.com/cerberus.html\n",
      "https://www.marshemispheres.com/schiaparelli.html\n",
      "https://www.marshemispheres.com/syrtis.html\n",
      "https://www.marshemispheres.com/valles.html\n"
     ]
    }
   ],
   "source": [
    "#urls for separate pages\n",
    "photos_url = []\n",
    "base_url='https://www.marshemispheres.com/'\n",
    "html=browser.html\n",
    "soup=bs(html, \"html.parser\")\n",
    "results = soup.find_all(\"div\", attrs={\"class\" : \"item\"})\n",
    "for result in results:\n",
    "    link=result.find('a')['href']\n",
    "    url = base_url + link  \n",
    "    photos_url.append(url)\n",
    "\n",
    "for i in photos_url:\n",
    "    print(i)"
   ]
  },
  {
   "cell_type": "code",
   "execution_count": 8,
   "metadata": {},
   "outputs": [],
   "source": [
    "# photos_url = []\n",
    "# base_url = \"https://www.marshemispheres.com/\"\n",
    "# for i in results:\n",
    "#     photo_url=(i.find('a')['href'])\n",
    "#     photo_url = base_url+photo_url\n",
    "#     photos_url.append(photo_url)\n",
    "# print(photos_url)\n"
   ]
  },
  {
   "cell_type": "code",
   "execution_count": 9,
   "metadata": {},
   "outputs": [],
   "source": [
    "# for i in photos_url:\n",
    "#     print(i)"
   ]
  },
  {
   "cell_type": "code",
   "execution_count": 10,
   "metadata": {},
   "outputs": [
    {
     "name": "stderr",
     "output_type": "stream",
     "text": [
      "C:\\Users\\TriciaToffey\\anaconda3\\lib\\site-packages\\splinter\\driver\\webdriver\\__init__.py:482: FutureWarning: browser.find_link_by_partial_href is deprecated. Use browser.links.find_by_partial_href instead.\n",
      "  warnings.warn(\n"
     ]
    },
    {
     "name": "stdout",
     "output_type": "stream",
     "text": [
      "['images/full.jpg', 'images/schiaparelli_enhanced-full.jpg', 'images/syrtis_major_enhanced-full.jpg', 'images/valles_marineris_enhanced-full.jpg']\n",
      "['Cerberus Hemisphere', 'Schiaparelli Hemisphere', 'Syrtis Major Hemisphere', 'Valles Marineris Hemisphere']\n"
     ]
    }
   ],
   "source": [
    "picture_urls = []\n",
    "titles=[]\n",
    "base_url = \"https://www.marshemispheres.com/\"\n",
    "for i in photos_url:\n",
    "    browser.visit(i)\n",
    "    #print(i)\n",
    "    time.sleep(2)\n",
    "    \n",
    "    html=browser.html\n",
    "    soup=bs(html, \"html.parser\")\n",
    "   \n",
    "    #results = soup.find_all(\"a\", href=lambda href: href and \"images*.jpg\" in href )\n",
    "    results = soup.find(\"a\", href=lambda href: href and href.endswith(\"jpg\"))\n",
    "    #picture_urls.append(results)\n",
    "    \n",
    "    pic_url=results[\"href\"]\n",
    "    picture_urls.append(pic_url)\n",
    "    \n",
    "    #Titles\n",
    "#     html=browser.html\n",
    "#     soup=bs(html, \"html.parser\")\n",
    "    results=soup.find_all('h2', class_='title')\n",
    "    \n",
    "    \n",
    "    for result in results:\n",
    "        title=result.text\n",
    "        title=' '.join(title.split(' ')[:-1])\n",
    "        titles.append(title)                \n",
    "   \n",
    "    browser.click_link_by_partial_href('index.html') \n",
    "    \n",
    "print(picture_urls)   \n",
    "print(titles)"
   ]
  },
  {
   "cell_type": "code",
   "execution_count": 11,
   "metadata": {},
   "outputs": [],
   "source": [
    "hemispheres_img_urls = []"
   ]
  },
  {
   "cell_type": "code",
   "execution_count": 12,
   "metadata": {},
   "outputs": [],
   "source": [
    "for x,y in zip(titles, picture_urls):\n",
    "    dictionary = {\"title\": x, \"img_url\":y}   \n",
    "    hemispheres_img_urls.append(dictionary)"
   ]
  },
  {
   "cell_type": "code",
   "execution_count": 13,
   "metadata": {},
   "outputs": [
    {
     "name": "stdout",
     "output_type": "stream",
     "text": [
      "{'title': 'Cerberus Hemisphere', 'img_url': 'images/full.jpg'}\n",
      "{'title': 'Schiaparelli Hemisphere', 'img_url': 'images/schiaparelli_enhanced-full.jpg'}\n",
      "{'title': 'Syrtis Major Hemisphere', 'img_url': 'images/syrtis_major_enhanced-full.jpg'}\n",
      "{'title': 'Valles Marineris Hemisphere', 'img_url': 'images/valles_marineris_enhanced-full.jpg'}\n"
     ]
    }
   ],
   "source": [
    "for i in hemispheres_img_urls:\n",
    "    print(i)"
   ]
  },
  {
   "cell_type": "code",
   "execution_count": 14,
   "metadata": {},
   "outputs": [],
   "source": [
    "browser.quit()"
   ]
  },
  {
   "cell_type": "code",
   "execution_count": null,
   "metadata": {},
   "outputs": [],
   "source": []
  }
 ],
 "metadata": {
  "kernelspec": {
   "display_name": "Python 3",
   "language": "python",
   "name": "python3"
  },
  "language_info": {
   "codemirror_mode": {
    "name": "ipython",
    "version": 3
   },
   "file_extension": ".py",
   "mimetype": "text/x-python",
   "name": "python",
   "nbconvert_exporter": "python",
   "pygments_lexer": "ipython3",
   "version": "3.8.5"
  }
 },
 "nbformat": 4,
 "nbformat_minor": 4
}
